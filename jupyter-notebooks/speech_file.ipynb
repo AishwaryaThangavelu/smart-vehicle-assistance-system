{
 "cells": [
  {
   "cell_type": "code",
   "execution_count": 3,
   "metadata": {},
   "outputs": [],
   "source": [
    "import h5py\n",
    "import numpy as np\n",
    "from keras.models import load_model\n",
    "from keras.applications.resnet_v2 import preprocess_input\n",
    "from keras.utils import img_to_array\n",
    "from sklearn.preprocessing import LabelEncoder\n",
    "import cv2\n",
    "\n",
    "IMG_SIZE = (50,50)\n",
    "\n",
    "def preprocess(p):\n",
    "    test_images=[]\n",
    "    img = cv2.imread(p)\n",
    "    img = cv2.cvtColor(img, cv2.COLOR_BGR2RGB)  # convert to RGB\n",
    "    img = cv2.resize(img, IMG_SIZE)  # resize to a fixed size\n",
    "    img = img_to_array(img)  # convert to numpy array\n",
    "    img = preprocess_input(img)  # preprocess with ResNet preprocessing function\n",
    "    test_images.append(img)\n",
    "    X_test_images = np.array(X_test_images)\n",
    "    return X_test_images\n",
    "\n",
    "model=load_model(\"Path\\to\\modelh5\")\n",
    "img=preprocess(\"Image/path\")\n",
    "prediction_score = model.predict(img)\n",
    "print(prediction_score)\n",
    "encoder=LabelEncoder()\n",
    "encoder.classes_=np.load(\"classes.npy\",)\n",
    "class_names=encoder.classes_\n",
    "out_signal=class_names[int(prediction_score)]\n",
    "print(out_signal)\n",
    "\n"
   ]
  },
  {
   "cell_type": "code",
   "execution_count": 2,
   "metadata": {},
   "outputs": [],
   "source": [
    "import pyttsx3\n",
    "#gtts\n",
    "# Initialize the pyttsx3 engine\n",
    "engine = pyttsx3.init()\n",
    "\n",
    "# Set the speed of the speech\n",
    "engine.setProperty('rate', 150)\n",
    "\n",
    "# Set the voice type (optional)\n",
    "voices = engine.getProperty('voices')\n",
    "engine.setProperty('voice', voices[1].id) # 0 for male voice, 1 for female voice\n",
    "\n",
    "# Convert text to speech\n",
    "phrase1=\"It is a \"\n",
    "phrase2=\"ahead\"\n",
    "text=phrase1+out_signal+phrase2\n",
    "engine.say(text))\n",
    "engine.runAndWait()\n"
   ]
  }
 ],
 "metadata": {
  "kernelspec": {
   "display_name": "base",
   "language": "python",
   "name": "python3"
  },
  "language_info": {
   "codemirror_mode": {
    "name": "ipython",
    "version": 3
   },
   "file_extension": ".py",
   "mimetype": "text/x-python",
   "name": "python",
   "nbconvert_exporter": "python",
   "pygments_lexer": "ipython3",
   "version": "3.9.13"
  },
  "orig_nbformat": 4,
  "vscode": {
   "interpreter": {
    "hash": "2a9d73323239a038e2598e03460358b35a0f5840d779364a844fb4ed62666ace"
   }
  }
 },
 "nbformat": 4,
 "nbformat_minor": 2
}
